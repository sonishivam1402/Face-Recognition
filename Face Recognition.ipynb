{
 "cells": [
  {
   "cell_type": "code",
   "execution_count": 1,
   "id": "71f1f56a",
   "metadata": {},
   "outputs": [],
   "source": [
    "import cv2\n",
    "import numpy as np\n",
    "import face_recognition as fr\n",
    "from playsound import playsound"
   ]
  },
  {
   "cell_type": "code",
   "execution_count": 2,
   "id": "0a2e2eda",
   "metadata": {},
   "outputs": [],
   "source": [
    "video_capture = cv2.VideoCapture(0)"
   ]
  },
  {
   "cell_type": "code",
   "execution_count": 3,
   "id": "fb3edc2e",
   "metadata": {},
   "outputs": [],
   "source": [
    "# add ur image in place of boy.jpg"
   ]
  },
  {
   "cell_type": "code",
   "execution_count": 4,
   "id": "d3811c46",
   "metadata": {},
   "outputs": [],
   "source": [
    "image = fr.load_image_file(\"boy.jpg\") "
   ]
  },
  {
   "cell_type": "code",
   "execution_count": 5,
   "id": "bd69d858",
   "metadata": {},
   "outputs": [],
   "source": [
    "image_face_encoding = fr.face_encodings(image)[0]"
   ]
  },
  {
   "cell_type": "code",
   "execution_count": 6,
   "id": "85ed6c47",
   "metadata": {},
   "outputs": [],
   "source": [
    "known_face_encodings = [image_face_encoding]"
   ]
  },
  {
   "cell_type": "code",
   "execution_count": 7,
   "id": "a1ea4d4a",
   "metadata": {},
   "outputs": [],
   "source": [
    "known_face_names = [\"Shivam\"]"
   ]
  },
  {
   "cell_type": "code",
   "execution_count": 8,
   "id": "972dcfb8",
   "metadata": {},
   "outputs": [],
   "source": [
    "# replace name with ur name "
   ]
  },
  {
   "cell_type": "code",
   "execution_count": 9,
   "id": "cc6a377a",
   "metadata": {},
   "outputs": [],
   "source": [
    "while True:\n",
    "    \n",
    "    ret, frame = video_capture.read()\n",
    "#     rgb_frame = small_frame[:,:,::-1]\n",
    "    rgb_frame = np.ascontiguousarray(frame[:, :, ::-1])\n",
    "    if True:\n",
    "        face_locations = fr.face_locations(rgb_frame)\n",
    "        face_encodings = fr.face_encodings(rgb_frame, face_locations)\n",
    "        for (top,right,bottom,left), face_encoding in zip (face_locations, face_encodings):\n",
    "            matches = fr.compare_faces(known_face_encodings, face_encoding)\n",
    "            name = \"unknown\"\n",
    "            face_distance = fr.face_distance(known_face_encodings, face_encoding)\n",
    "            match_index = np.argmin(face_distance)\n",
    "            if matches[match_index]:\n",
    "                name = known_face_names[match_index]\n",
    "            else:\n",
    "#		     if necessary give full path of audio file\n"
    "                playsound('beep-01.mp3')\n",
    "        \n",
    "            cv2.rectangle(frame, (left,top), (right,bottom), (0,0,255), 2)\n",
    "            cv2.rectangle(frame, (left,bottom-35), (right,bottom), (0,0,255),cv2.FILLED)\n",
    "        \n",
    "            font = cv2.FONT_HERSHEY_SIMPLEX\n",
    "        \n",
    "            cv2.putText(frame, name, (left +6, bottom -6),font, 1.0, (255,255,255), 1)\n",
    "        \n",
    "    cv2.imshow('Shivam face detection system', frame)\n",
    "        \n",
    "    if cv2.waitKey(1) & 0xFF == ord('q'):\n",
    "        break\n",
    "        \n",
    "video_capture.release()\n",
    "cv2.destroyAllWindows()"
   ]
  },
  {
   "cell_type": "code",
   "execution_count": null,
   "id": "11642bf2",
   "metadata": {},
   "outputs": [],
   "source": []
  },
  {
   "cell_type": "code",
   "execution_count": null,
   "id": "6ba0b1f1",
   "metadata": {},
   "outputs": [],
   "source": []
  }
 ],
 "metadata": {
  "kernelspec": {
   "display_name": "Python 3 (ipykernel)",
   "language": "python",
   "name": "python3"
  },
  "language_info": {
   "codemirror_mode": {
    "name": "ipython",
    "version": 3
   },
   "file_extension": ".py",
   "mimetype": "text/x-python",
   "name": "python",
   "nbconvert_exporter": "python",
   "pygments_lexer": "ipython3",
   "version": "3.9.13"
  }
 },
 "nbformat": 4,
 "nbformat_minor": 5
}
